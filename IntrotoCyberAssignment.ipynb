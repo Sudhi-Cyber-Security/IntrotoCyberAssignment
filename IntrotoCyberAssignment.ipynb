{
  "nbformat": 4,
  "nbformat_minor": 0,
  "metadata": {
    "colab": {
      "provenance": [],
      "authorship_tag": "ABX9TyOiYw9Gor0om8k1tamumROo",
      "include_colab_link": true
    },
    "kernelspec": {
      "name": "python3",
      "display_name": "Python 3"
    },
    "language_info": {
      "name": "python"
    }
  },
  "cells": [
    {
      "cell_type": "markdown",
      "metadata": {
        "id": "view-in-github",
        "colab_type": "text"
      },
      "source": [
        "<a href=\"https://colab.research.google.com/github/Sudhi-Cyber-Security/IntrotoCyberAssignment/blob/main/IntrotoCyberAssignment.ipynb\" target=\"_parent\"><img src=\"https://colab.research.google.com/assets/colab-badge.svg\" alt=\"Open In Colab\"/></a>"
      ]
    },
    {
      "cell_type": "markdown",
      "source": [
        "#Implement any two symmetric encryption algorithms using Python."
      ],
      "metadata": {
        "id": "fI8bOZPmexmi"
      }
    },
    {
      "cell_type": "markdown",
      "source": [
        "#1) Caesar Cipher"
      ],
      "metadata": {
        "id": "7Rtr3yhWe1jJ"
      }
    },
    {
      "cell_type": "markdown",
      "source": [
        "#The Caesar Cipher is one of the simplest and most widely known encryption techniques. It is a substitution cipher where each letter in the plaintext is shifted a certain number of places down or up the alphabet.\n",
        "\n",
        "#Working:\n",
        "#1) Encryption:\n",
        "#->Take the plaintext and a shift value (key).\n",
        "#->For each letter in the plaintext:\n",
        "#->Shift the letter in the alphabet by the specified number of positions.\n",
        "#->Wrap around to the beginning or end of the alphabet if necessary.\n",
        "#->Generate the ciphertext with the shifted letters.\n",
        "#2) Decryption:\n",
        "#->Take the ciphertext and the same shift value (key) used for encryption.\n",
        "#->For each letter in the ciphertext:\n",
        "#->Shift the letter in the reverse direction by the specified number of positions.\n",
        "#->Wrap around to the beginning or end of the alphabet if necessary.\n",
        "#->Generate the plaintext with the shifted letters."
      ],
      "metadata": {
        "id": "hU5p6E4LgiiQ"
      }
    },
    {
      "cell_type": "code",
      "source": [
        "def caesar_cipher_encrypt(text, shift):\n",
        "    encrypted_text = ''\n",
        "    for char in text:\n",
        "        if char.isalpha():\n",
        "            shifted = ord(char) + shift\n",
        "            if char.islower():\n",
        "                if shifted > ord('z'):\n",
        "                    shifted -= 26\n",
        "                elif shifted < ord('a'):\n",
        "                    shifted += 26\n",
        "            elif char.isupper():\n",
        "                if shifted > ord('Z'):\n",
        "                    shifted -= 26\n",
        "                elif shifted < ord('A'):\n",
        "                    shifted += 26\n",
        "            encrypted_text += chr(shifted)\n",
        "        else:\n",
        "            encrypted_text += char\n",
        "    return encrypted_text\n",
        "\n",
        "def caesar_cipher_decrypt(encrypted_text, shift):\n",
        "    return caesar_cipher_encrypt(encrypted_text, -shift)\n",
        "\n",
        "plaintext =input(\"Enter the plaintext:\")\n",
        "shift =int(input(\"Enter shift position:\"))\n",
        "encrypted = caesar_cipher_encrypt(plaintext, shift)\n",
        "print(\"Encrypted:\", encrypted)\n",
        "decrypted = caesar_cipher_decrypt(encrypted, shift)\n",
        "print(\"Decrypted:\", decrypted)\n"
      ],
      "metadata": {
        "colab": {
          "base_uri": "https://localhost:8080/"
        },
        "id": "-vJJRvmxe8R3",
        "outputId": "9aeaba7c-3b50-4eae-944c-6b40cf885808"
      },
      "execution_count": null,
      "outputs": [
        {
          "output_type": "stream",
          "name": "stdout",
          "text": [
            "Enter the plaintext:sudhi\n",
            "Enter shift position:3\n",
            "Encrypted: vxgkl\n",
            "Decrypted: sudhi\n"
          ]
        }
      ]
    },
    {
      "cell_type": "markdown",
      "source": [
        "#2) Vigenère Cipher"
      ],
      "metadata": {
        "id": "eHe0dzgmhfKi"
      }
    },
    {
      "cell_type": "markdown",
      "source": [
        "#Working:\n",
        "#1) Encryption:\n",
        "#->Take the plaintext and a keyword.\n",
        "#->Repeat the keyword until it matches the length of the plaintext.\n",
        "#->For each letter in the plaintext:\n",
        "#->Use the corresponding letter from the repeated keyword to determine the shift.\n",
        "#->Shift the letter in the alphabet by the specified number of positions.\n",
        "#->Generate the ciphertext with the shifted letters.\n",
        "#2) Decryption:\n",
        "#->Take the ciphertext and the same keyword used for encryption.\n",
        "#->Repeat the keyword until it matches the length of the ciphertext.\n",
        "#->For each letter in the ciphertext:\n",
        "#->Use the corresponding letter from the repeated keyword to determine the shift.\n",
        "#->Shift the letter in the reverse direction by the specified number of positions.\n",
        "#->Generate the plaintext with the shifted letters."
      ],
      "metadata": {
        "id": "eO3tzN06hmBI"
      }
    },
    {
      "cell_type": "code",
      "source": [
        "def encr(plain_txt, key):\n",
        "    alphabet_dictionary = {\n",
        "        'a': 0, 'b': 1, 'c': 2, 'd': 3, 'e': 4, 'f': 5, 'g': 6, 'h': 7, 'i': 8, 'j': 9, 'k': 10,\n",
        "        'l': 11, 'm': 12, 'n': 13, 'o': 14, 'p': 15, 'q': 16, 'r': 17, 's': 18, 't': 19, 'u': 20,\n",
        "        'v': 21, 'w': 22, 'x': 23, 'y': 24, 'z': 25\n",
        "    }\n",
        "\n",
        "    encr_txt = \"\"\n",
        "    for char, k in zip(plain_txt, key):\n",
        "        if char.isalpha():\n",
        "            new_indx = (alphabet_dictionary[char] + alphabet_dictionary[k.lower()]) % 26\n",
        "            cipher_txt = next(key for key, value in alphabet_dictionary.items() if value == new_indx)\n",
        "            if char.isupper():\n",
        "                cipher_txt = cipher_txt.upper()\n",
        "            encr_txt += cipher_txt\n",
        "        else:\n",
        "            encr_txt += char\n",
        "    return encr_txt\n",
        "\n",
        "def decr(encr_txt, key):\n",
        "    alphabet_dictionary = {\n",
        "        'a': 0, 'b': 1, 'c': 2, 'd': 3, 'e': 4, 'f': 5, 'g': 6, 'h': 7, 'i': 8, 'j': 9, 'k': 10,\n",
        "        'l': 11, 'm': 12, 'n': 13, 'o': 14, 'p': 15, 'q': 16, 'r': 17, 's': 18, 't': 19, 'u': 20,\n",
        "        'v': 21, 'w': 22, 'x': 23, 'y': 24, 'z': 25\n",
        "    }\n",
        "\n",
        "    decr_txt = \"\"\n",
        "    for char, k in zip(encr_txt, key):\n",
        "        if char.isalpha():\n",
        "            old_indx = (alphabet_dictionary[char] - alphabet_dictionary[k.lower()]) % 26\n",
        "            plain_txt = next(key for key, value in alphabet_dictionary.items() if value == old_indx)\n",
        "            if char.isupper():\n",
        "                plain_txt = plain_txt.upper()\n",
        "            decr_txt += plain_txt\n",
        "        else:\n",
        "            decr_txt += char\n",
        "    return decr_txt\n",
        "\n",
        "txt = input(\"Enter the plain text: \")\n",
        "key = input(\"Enter the key: \")\n",
        "encrypted_text = encr(txt, key)\n",
        "print(\"Encrypted text:\", encrypted_text)\n",
        "\n",
        "decrypted_text = decr(encrypted_text, key)\n",
        "print(\"Decrypted text:\", decrypted_text)\n"
      ],
      "metadata": {
        "colab": {
          "base_uri": "https://localhost:8080/"
        },
        "id": "hxQdeakqiRM6",
        "outputId": "f719b40d-d997-4221-804a-5c60dc69aa03"
      },
      "execution_count": null,
      "outputs": [
        {
          "output_type": "stream",
          "name": "stdout",
          "text": [
            "Enter the plain text: cyber\n",
            "Enter the key: keyke\n",
            "Encrypted text: mczov\n",
            "Decrypted text: cyber\n"
          ]
        }
      ]
    },
    {
      "cell_type": "markdown",
      "source": [
        "#Implement any two Asymmetric encryption algorithms using Python."
      ],
      "metadata": {
        "id": "5L8rKxh-lj1r"
      }
    },
    {
      "cell_type": "markdown",
      "source": [
        "#1) RSA (Rivest-Shamir-Adleman)"
      ],
      "metadata": {
        "id": "g2xtgoRSjYry"
      }
    },
    {
      "cell_type": "markdown",
      "source": [
        "#1.Key Generation:\n",
        "#->Imagine you have two big numbers that are secret (private keys), and you multiply them together to get an even bigger number (public key).\n",
        "#->The public key is used to lock messages, and the private keys are used to unlock them.\n",
        "#2.Encryption:\n",
        "#->If you want to send a secret message to someone, you use their public key to lock it.\n",
        "#->You take your message, turn it into numbers, and do some math with the public key.\n",
        "#->The result is a scrambled version of your message that only the person with the private key can unscramble.\n",
        "#3.Decryption:\n",
        "#->The person with the private key receives the scrambled message and uses their private key to unscramble it.\n",
        "#->They do some more math with their private key, and voila! They get back the original message."
      ],
      "metadata": {
        "id": "6aFpMoV3lEpj"
      }
    },
    {
      "cell_type": "code",
      "source": [
        "import random\n",
        "\n",
        "def gcd(a, b):\n",
        "    while b != 0:\n",
        "        a, b = b, a % b\n",
        "    return a\n",
        "\n",
        "def mod_inverse(a, m):\n",
        "    m0, x0, x1 = m, 0, 1\n",
        "    while a > 1:\n",
        "        q = a // m\n",
        "        m, a = a % m, m\n",
        "        x0, x1 = x1 - q * x0, x0\n",
        "    return x1 + m0 if x1 < 0 else x1\n",
        "\n",
        "def is_prime(n, k=5):\n",
        "    if n <= 1:\n",
        "        return False\n",
        "    if n <= 3:\n",
        "        return True\n",
        "    for _ in range(k):\n",
        "        a = random.randint(2, n - 1)\n",
        "        if gcd(n, a) != 1:\n",
        "            return False\n",
        "        if pow(a, n - 1, n) != 1:\n",
        "            return False\n",
        "    return True\n",
        "\n",
        "def generate_keypair(p, q):\n",
        "    if not (is_prime(p) and is_prime(q)):\n",
        "        raise ValueError(\"Both numbers must be prime.\")\n",
        "    n = p * q\n",
        "    phi = (p - 1) * (q - 1)\n",
        "    e = random.randrange(1, phi)\n",
        "    while gcd(e, phi) != 1:\n",
        "        e = random.randrange(1, phi)\n",
        "    d = mod_inverse(e, phi)\n",
        "    return ((e, n), (d, n))\n",
        "\n",
        "def encrypt(public_key, plaintext):\n",
        "    e, n = public_key\n",
        "    ciphertext = [pow(ord(char), e, n) for char in plaintext]\n",
        "    return ciphertext\n",
        "\n",
        "def decrypt(private_key, ciphertext):\n",
        "    d, n = private_key\n",
        "    plaintext = ''.join([chr(pow(char, d, n)) for char in ciphertext])\n",
        "    return plaintext\n",
        "\n",
        "p = int(input(\"Enter the value of p (Prime Number):\"))\n",
        "q = int(input(\"Enter the value of q (Prime Number):\"))\n",
        "public_key, private_key = generate_keypair(p, q)\n",
        "print(\"Public Key:\", public_key)\n",
        "print(\"Private Key:\", private_key)\n",
        "\n",
        "plaintext = input(\"Enter the plaintext:\")\n",
        "encrypted = encrypt(public_key, plaintext)\n",
        "print(\"Encrypted:\", encrypted)\n",
        "\n",
        "decrypted = decrypt(private_key, encrypted)\n",
        "print(\"Decrypted:\", decrypted)\n"
      ],
      "metadata": {
        "colab": {
          "base_uri": "https://localhost:8080/"
        },
        "id": "9k5G8daqmIW0",
        "outputId": "633c90ed-d4c3-47a6-96f4-9b0bf11e6bff"
      },
      "execution_count": null,
      "outputs": [
        {
          "output_type": "stream",
          "name": "stdout",
          "text": [
            "Enter the value of p (Prime Number):53\n",
            "Enter the value of q (Prime Number):67\n",
            "Public Key: (31, 3551)\n",
            "Private Key: (775, 3551)\n",
            "Enter the plaintext:sudhi\n",
            "Encrypted: [219, 3535, 3354, 774, 105]\n",
            "Decrypted: sudhi\n"
          ]
        }
      ]
    },
    {
      "cell_type": "markdown",
      "source": [
        "#2) ElGamal Encryption Algorithm"
      ],
      "metadata": {
        "id": "oMd7HsUHnpDx"
      }
    },
    {
      "cell_type": "markdown",
      "source": [
        "#1: Getting Keys:\n",
        "#->First, you and your friend each get two keys: a public key and a private key. Your private key is your own secret, while your public key can be shared with anyone.\n",
        "#2: Sending a Secret Message:\n",
        "#->When you want to send a secret message to your friend:\n",
        "#->You put your message in a box and lock it with a special lock that only your friend can open.\n",
        "#->You also put a tag on the box that helps your friend find the right key to unlock it.\n",
        "#3: Unlocking the Message:\n",
        "#->Your friend receives the locked box and looks at the tag to find the right key.\n",
        "#->Using their private key, they unlock the box and read your message."
      ],
      "metadata": {
        "id": "WEQpD14tny9R"
      }
    },
    {
      "cell_type": "code",
      "source": [
        "import random\n",
        "\n",
        "def gcd(a, b):\n",
        "    if a < b:\n",
        "        return gcd(b, a)\n",
        "    elif a % b == 0:\n",
        "        return b\n",
        "    else:\n",
        "        return gcd(b, a % b)\n",
        "\n",
        "def gen_key(q):\n",
        "    key = random.randint(pow(10, 20), q)\n",
        "    while gcd(q, key) != 1:\n",
        "        key = random.randint(pow(10, 20), q)\n",
        "    return key\n",
        "\n",
        "def power(a, b, c):\n",
        "    x = 1\n",
        "    y = a\n",
        "    while b > 0:\n",
        "        if b % 2 != 0:\n",
        "            x = (x * y) % c\n",
        "        y = (y * y) % c\n",
        "        b = int(b / 2)\n",
        "    return x % c\n",
        "\n",
        "def encrypt(msg, q, h, g):\n",
        "    en_msg = []\n",
        "    k = gen_key(q)  # Private key for sender\n",
        "    s = power(h, k, q)\n",
        "    p = power(g, k, q)\n",
        "    for i in range(len(msg)):\n",
        "        en_msg.append(msg[i])\n",
        "    for i in range(len(en_msg)):\n",
        "        en_msg[i] = s * ord(en_msg[i])\n",
        "    return en_msg, p\n",
        "\n",
        "def decrypt(en_msg, p, key, q):\n",
        "    dr_msg = []\n",
        "    h = power(p, key, q)\n",
        "    for i in range(len(en_msg)):\n",
        "        dr_msg.append(chr(int(en_msg[i] / h)))\n",
        "    return dr_msg\n",
        "\n",
        "def main():\n",
        "    msg = input(\"Enter the plaintext:\")\n",
        "    print(\"Original Message:\", msg)\n",
        "    q = random.randint(pow(10, 20), pow(10, 50))\n",
        "    g = random.randint(2, q)\n",
        "    key = gen_key(q)  # Private key for receiver\n",
        "    h = power(g, key, q)\n",
        "    print(\"g used (g is a generator element from the cyclic group):\", g)\n",
        "    print(\"g^a used (g^a is the result of raising g to the power of Bob’s private key):\", h)\n",
        "    en_msg, p = encrypt(msg, q, h, g)\n",
        "    dr_msg = decrypt(en_msg, p, key, q)\n",
        "    dmsg = ''.join(dr_msg)\n",
        "    print(\"Decrypted Message:\", dmsg)\n",
        "\n",
        "if __name__ == '__main__':\n",
        "    main()\n"
      ],
      "metadata": {
        "colab": {
          "base_uri": "https://localhost:8080/"
        },
        "id": "g4KUd07Qn1So",
        "outputId": "47c28d68-f0ab-41ad-a6e8-13cb414fb383"
      },
      "execution_count": null,
      "outputs": [
        {
          "output_type": "stream",
          "name": "stdout",
          "text": [
            "Enter the plaintext:encryption\n",
            "Original Message: encryption\n",
            "g used (g is a generator element from the cyclic group): 11424120709991369967791142164708655536272883178151\n",
            "g^a used (g^a is the result of raising g to the power of Bob’s private key): 11177158532964455513170533436364659132093587910698\n",
            "Decrypted Message: encryption\n"
          ]
        }
      ]
    },
    {
      "cell_type": "markdown",
      "source": [
        "#Implement a hash function to compute the hash of a given string."
      ],
      "metadata": {
        "id": "BEiY6K9WtyiQ"
      }
    },
    {
      "cell_type": "markdown",
      "source": [
        "#1: Making the Secret Code:\n",
        "#-> You give SHA-256 a message, like \"Hello, World!\".\n",
        "#-> SHA-256 then performs some special math on the message to create a unique secret code.\n",
        "#2: Special Math:\n",
        "#-> SHA-256 breaks down the message into tiny pieces and mixes them up in a special way.\n",
        "#-> It's like jumbling up letters in a word, but in a really complicated way that nobody can un-jumble.\n",
        "#3: Creating the Code:\n",
        "#-> After doing its special math, SHA-256 spits out a secret code.\n",
        "#-> This code is a fixed size and looks like a long string of letters and numbers.\n",
        "#4: Unique Codes:\n",
        "#-> Even if you change just one tiny thing in the message, like adding a single letter, the secret code will completely change.\n",
        "#-> This means each message has its very own unique secret code."
      ],
      "metadata": {
        "id": "YbcMj1Ojt3h5"
      }
    },
    {
      "cell_type": "code",
      "source": [
        "import hashlib\n",
        "\n",
        "def compute_hash(input_string):\n",
        "    # Convert the input string to bytes\n",
        "    input_bytes = input_string.encode('utf-8')\n",
        "\n",
        "    # Compute the hash using SHA-256 algorithm\n",
        "    hash_result = hashlib.sha256(input_bytes).hexdigest()\n",
        "\n",
        "    return hash_result\n",
        "\n",
        "input_string =input(\"Enter the string:\")\n",
        "hash_result = compute_hash(input_string)\n",
        "print(\"Hash of '{}' is: {}\".format(input_string, hash_result))\n"
      ],
      "metadata": {
        "colab": {
          "base_uri": "https://localhost:8080/"
        },
        "id": "u-pIm8F6t4LJ",
        "outputId": "ed572400-a137-4fca-cda0-a9da89ba6012"
      },
      "execution_count": null,
      "outputs": [
        {
          "output_type": "stream",
          "name": "stdout",
          "text": [
            "Enter the string:sudhi\n",
            "Hash of 'sudhi' is: 4d12fb75c4cbc31874ed4b7ffb547790f202e141ef76af9d2791c46f53e06544\n"
          ]
        }
      ]
    }
  ]
}